{
 "cells": [
  {
   "cell_type": "markdown",
   "metadata": {},
   "source": [
    "## Programming Assignment"
   ]
  },
  {
   "cell_type": "markdown",
   "metadata": {},
   "source": [
    "* Логистическая регрессия: реализация градиентного спуска для настройки логистической регрессии"
   ]
  },
  {
   "cell_type": "code",
   "execution_count": null,
   "metadata": {},
   "outputs": [],
   "source": [
    "import pandas as pd\n",
    "import numpy as np\n",
    "import math\n",
    "from sklearn.metrics import roc_auc_score"
   ]
  },
  {
   "cell_type": "code",
   "execution_count": null,
   "metadata": {},
   "outputs": [],
   "source": [
    "data = pd.read_csv('data-logistic.csv', header=None)\n",
    "data.head()"
   ]
  },
  {
   "cell_type": "code",
   "execution_count": null,
   "metadata": {},
   "outputs": [],
   "source": [
    "X_ = data[0]\n",
    "y_ = data[[1,2]]"
   ]
  },
  {
   "cell_type": "code",
   "execution_count": null,
   "metadata": {},
   "outputs": [],
   "source": [
    "X_ = data.values[:, 1:]\n",
    "y_ = data.values[:, :1].T[0]"
   ]
  },
  {
   "cell_type": "code",
   "execution_count": null,
   "metadata": {},
   "outputs": [],
   "source": [
    "def sigmoid(x):\n",
    "    return 1.0/ (1 + math.exp(-x))"
   ]
  },
  {
   "cell_type": "code",
   "execution_count": null,
   "metadata": {},
   "outputs": [],
   "source": [
    "def distance(a, b):\n",
    "    return np.sqrt(np.square(a[0]-b[0]) + np.square(a[1] - b[1]))"
   ]
  },
  {
   "cell_type": "code",
   "execution_count": null,
   "metadata": {},
   "outputs": [],
   "source": [
    "def log_regression(X, y, k, w, C, elipson, max_iter):\n",
    "    w1, w2 = w\n",
    "    for i in range(max_iter):\n",
    "        w1new = w1 + k * np.mean(y * X[:,0] * (1 - (1./(1 + np.exp(-y * (w1 * X[:,0] + w2 * X[:,1]))))))- k*C*w1\n",
    "        w2new = w2 + k * np.mean(y * X[:,1] * (1 - (1./(1 + np.exp(-y * (w1 * X[:,0] + w2 * X[:,1]))))))- k*C*w2\n",
    "        if distance((w1new, w2new), (w1, w2)) < epsilon:\n",
    "            break\n",
    "        w1, w2 = w1new, w2new\n",
    "        \n",
    "    predictions = []\n",
    "    \n",
    "    for i in range(len(x)):\n",
    "        t1 = -w1 * X[i, 0] - w2 * X[i, 1]\n",
    "        s = sigmoid(t1)\n",
    "        predictions.append(s)\n",
    "        \n",
    "    return predictions"
   ]
  },
  {
   "cell_type": "code",
   "execution_count": null,
   "metadata": {},
   "outputs": [],
   "source": [
    "p0 = log_regression(X_, y_, 0.1, [0.0, 0.0], 0, 0.00001, 10000)\n",
    "p1 = log_regression(X_, y_, 0.1, [0.0, 0.0], 10, 0.00001, 10000)"
   ]
  },
  {
   "cell_type": "code",
   "execution_count": null,
   "metadata": {},
   "outputs": [],
   "source": [
    "print(roc_auc_score(y_, p0))\n",
    "print(roc_auc_score(y_, p1))"
   ]
  }
 ],
 "metadata": {
  "kernelspec": {
   "display_name": "Python 3",
   "language": "python",
   "name": "python3"
  },
  "language_info": {
   "codemirror_mode": {
    "name": "ipython",
    "version": 3
   },
   "file_extension": ".py",
   "mimetype": "text/x-python",
   "name": "python",
   "nbconvert_exporter": "python",
   "pygments_lexer": "ipython3",
   "version": "3.7.4"
  }
 },
 "nbformat": 4,
 "nbformat_minor": 2
}
