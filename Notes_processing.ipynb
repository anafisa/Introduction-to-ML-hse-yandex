{
 "cells": [
  {
   "cell_type": "markdown",
   "metadata": {},
   "source": [
    "## `Обработка данных`"
   ]
  },
  {
   "cell_type": "markdown",
   "metadata": {},
   "source": [
    "__1. Работа с числовыми данными__"
   ]
  },
  {
   "cell_type": "markdown",
   "metadata": {},
   "source": [
    "* введение новых признаков/понижение размерностей\n",
    "* масштабирование признаков(количество детей и годовой доход в задаче кредитного скоринга) \n",
    "* приведение распределения к нормальному"
   ]
  },
  {
   "cell_type": "markdown",
   "metadata": {},
   "source": [
    " __2. Работа с категориальными и текстовыми признаками__ "
   ]
  },
  {
   "cell_type": "markdown",
   "metadata": {},
   "source": [
    "* dummy кодирование (0,1)\n",
    "* введение счетчиков: подсчитываем вероятность встретить данных признак по всей выборке\n",
    "* применение dummy кодирования для каждого слова из текста-признака\n",
    "* tf-idf: оценка важности слова для текста\n",
    "* использование N-грамм для качественного анализа в текста"
   ]
  }
 ],
 "metadata": {
  "kernelspec": {
   "display_name": "Python 3",
   "language": "python",
   "name": "python3"
  },
  "language_info": {
   "codemirror_mode": {
    "name": "ipython",
    "version": 3
   },
   "file_extension": ".py",
   "mimetype": "text/x-python",
   "name": "python",
   "nbconvert_exporter": "python",
   "pygments_lexer": "ipython3",
   "version": "3.7.4"
  }
 },
 "nbformat": 4,
 "nbformat_minor": 2
}
